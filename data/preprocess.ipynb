{
 "cells": [
  {
   "cell_type": "code",
   "execution_count": 1,
   "id": "2f7abaaf",
   "metadata": {},
   "outputs": [],
   "source": [
    "import json\n",
    "import re\n",
    "\n",
    "import pandas as pd"
   ]
  },
  {
   "attachments": {},
   "cell_type": "markdown",
   "id": "4ae2c543",
   "metadata": {},
   "source": [
    "# 데이터프레임 전처리"
   ]
  },
  {
   "cell_type": "code",
   "execution_count": 2,
   "id": "7b45a6a0",
   "metadata": {},
   "outputs": [],
   "source": [
    "def df_preprocess(df):\n",
    "    print(\"기존 데이터 수 > \", len(df))\n",
    "    df = delete_duplicte(df)\n",
    "    df = delete_null(df)\n",
    "    df = create_title(df)\n",
    "\n",
    "    ## 한국어가 일정 비율 아래이면 kill\n",
    "    df = df[df['text'].apply(sep)]\n",
    "    df = df[df['title'].apply(sep)]\n",
    "    print(\"한국어 비율 적은 데이터 제거 후 데이터 수 > \", len(df))\n",
    "\n",
    "    ## death note 기반 kill\n",
    "    df = df[df['author'].apply(kill_author)]\n",
    "    df = df[df['text'].apply(kill_keyword)]\n",
    "    print(\"DEATH NOTE 후 데이터 수 > \", len(df))\n",
    "\n",
    "    ## 길이 기반 kill\n",
    "    df = df[df['text'].apply(len) > 500]\n",
    "    print(\"500자 이하 데이터 제거한 후 데이터 수 > \", len(df))\n",
    "\n",
    "    ## 중국어 일본어 kill\n",
    "    df = df[df['text'].apply(detect_chinese_japanese)]\n",
    "    print(\"중국어 일본어 제거한 데이터 수 > \", len(df))\n",
    "    return df\n",
    "\n",
    "\n",
    "def delete_duplicte(df):\n",
    "    df = df.drop_duplicates([\"text\"], keep='first')\n",
    "    print(\"중복 제거 후 데이터 수 > \", len(df))\n",
    "    return df\n",
    "\n",
    "\n",
    "def delete_null(df):\n",
    "    df = df.dropna(axis=0, subset=['text'])\n",
    "    df = df[df['text'].apply(len) > 0]\n",
    "    print(\"본문 없는 데이터 제거 후 데이터 수 > \", len(df))\n",
    "    return df\n",
    "\n",
    "\n",
    "def create_title(df):\n",
    "    df.loc[df['title'].isnull(), 'title'] = df[df['title'].isnull()]['text'].apply(lambda x: x.split(\".\")[0])\n",
    "    return df\n",
    "\n",
    "\n",
    "def sep(text):\n",
    "    try:\n",
    "        return len(re.sub(r\"[[^ㄱ-ㅎㅏ-ㅣ가-힣 \\n 1-9]\", \"\", text)) / len(text) * 100 < 20\n",
    "    except:\n",
    "        return False\n",
    "\n",
    "\n",
    "def kill_author(author):\n",
    "    death_author = [\"@karis\", \"@dkgo98\"]\n",
    "    return False if author in death_author else True\n",
    "\n",
    "\n",
    "def kill_keyword(text):\n",
    "    death_keyword = [\"코로나\", \"브런치\"]\n",
    "    for k in death_keyword:\n",
    "        if k in text:\n",
    "            return False\n",
    "    return True\n",
    "\n",
    "\n",
    "def detect_chinese_japanese(text: str) -> bool:\n",
    "    return len(re.findall(r'[\\u3040-\\u30ff\\u3400-\\u4dbf\\u4e00-\\u9fff\\uf900-\\ufaff]', text)) == 0\n",
    "\n",
    "\n",
    "def delete_tag(text):\n",
    "    text_split = text.split(\"\\n\")\n",
    "    while text_split and len(text_split[-1]) < 6:\n",
    "        text_split.pop()\n",
    "    return \"\\n\".join(text_split)"
   ]
  },
  {
   "attachments": {},
   "cell_type": "markdown",
   "id": "fa4e66c9",
   "metadata": {},
   "source": [
    "## 오거서"
   ]
  },
  {
   "cell_type": "code",
   "execution_count": 3,
   "id": "abdace0d",
   "metadata": {},
   "outputs": [],
   "source": [
    "# fcb1 = pd.read_excel(\"./bookathon_common_dataset/2015 독서리뷰-수정.xlsx\", header=1)\n",
    "# fcb2 = pd.read_excel(\"./bookathon_common_dataset/2016 독서리뷰-수정.xlsx\", header=1)\n",
    "# fcb3 = pd.read_excel(\"./bookathon_common_dataset/2017 독서리뷰-수정.xlsx\", header=1)\n",
    "# fcb4 = pd.read_excel(\"./bookathon_common_dataset/2018 독서리뷰-수정.xlsx\", header=1)\n",
    "# fcb5 = pd.read_excel(\"./bookathon_common_dataset/2019-2020 독서리뷰-수정.xlsx\", header=1)\n",
    "# fcb6 = pd.read_excel(\"./bookathon_common_dataset/2021-2022.12.12 오거서 독서리뷰.xls\", header=1)\n",
    "\n",
    "# total_fcb = pd.concat([fcb1, fcb2, fcb3, fcb4, fcb5, fcb6])\n",
    "\n",
    "# fcb_df = total_fcb[[\"도서명(또는 글제목)\", \"글 내용\" ,\"작성자명\"]]\n",
    "# fcb_df = fcb_df.rename(columns={\"도서명(또는 글제목)\": \"title\",\"글 내용\": \"text\", \"작성자명\": \"author\"})\n",
    "\n",
    "# fcb_df['text'] = fcb_df['text'].apply(str)\n",
    "# fcb_df['title'] = fcb_df['title'].apply(str)\n",
    "# fcb_df['author'] = fcb_df['author'].apply(str)\n",
    "# fcb_df[\"url\"] = np.NaN\n",
    "# fcb_df[\"class\"] = \"감상&비평\"\n",
    "\n",
    "# fcb_df = df_preprocess(fcb_df)\n",
    "# fcb_df.info()"
   ]
  },
  {
   "attachments": {},
   "cell_type": "markdown",
   "id": "73d100b4",
   "metadata": {},
   "source": [
    "## 브런치"
   ]
  },
  {
   "cell_type": "code",
   "execution_count": 4,
   "id": "6ee7194f",
   "metadata": {},
   "outputs": [],
   "source": [
    "# keyword = ['산문', '에세이', '인생', '일상에세이', '감성에세이', '감성에세이1', '수필']\n",
    "keyword = [\"수필\", \"에세이\", \"일상에세이\"]\n",
    "\n",
    "death_keyword = [\"코로나\", \"브런치\"]\n",
    "death_author = []"
   ]
  },
  {
   "cell_type": "code",
   "execution_count": 5,
   "id": "6371bf3d",
   "metadata": {},
   "outputs": [
    {
     "name": "stdout",
     "output_type": "stream",
     "text": [
      "<class 'pandas.core.frame.DataFrame'>\n",
      "RangeIndex: 28082 entries, 0 to 28081\n",
      "Data columns (total 5 columns):\n",
      " #   Column  Non-Null Count  Dtype \n",
      "---  ------  --------------  ----- \n",
      " 0   class   28082 non-null  object\n",
      " 1   title   28082 non-null  object\n",
      " 2   author  28082 non-null  object\n",
      " 3   text    28082 non-null  object\n",
      " 4   url     28082 non-null  object\n",
      "dtypes: object(5)\n",
      "memory usage: 1.1+ MB\n"
     ]
    }
   ],
   "source": [
    "total_brunch = []\n",
    "\n",
    "for k in keyword:\n",
    "    total_brunch += json.load(open(f\"./brunch/{k}.json\", \"r\", encoding=\"UTF8\"))['data']\n",
    "\n",
    "brunch_df = pd.DataFrame(data=total_brunch)\n",
    "brunch_df.info()"
   ]
  },
  {
   "cell_type": "code",
   "execution_count": 6,
   "id": "6b603b9e",
   "metadata": {},
   "outputs": [
    {
     "name": "stdout",
     "output_type": "stream",
     "text": [
      "기존 데이터 수 >  28082\n",
      "중복 제거 후 데이터 수 >  27296\n",
      "본문 없는 데이터 제거 후 데이터 수 >  27295\n"
     ]
    },
    {
     "name": "stderr",
     "output_type": "stream",
     "text": [
      "C:\\Users\\DIAL\\AppData\\Local\\Temp\\ipykernel_25748\\2409298590.py:47: FutureWarning: Possible nested set at position 1\n",
      "  return len(re.sub(r\"[[^ㄱ-ㅎㅏ-ㅣ가-힣 \\n 1-9]\", \"\", text)) / len(text) * 100 < 20\n"
     ]
    },
    {
     "name": "stdout",
     "output_type": "stream",
     "text": [
      "한국어 비율 적은 데이터 제거 후 데이터 수 >  24778\n",
      "DEATH NOTE 후 데이터 수 >  21624\n",
      "500자 이하 데이터 제거한 후 데이터 수 >  19429\n",
      "중국어 일본어 제거한 데이터 수 >  17791\n",
      "<class 'pandas.core.frame.DataFrame'>\n",
      "Int64Index: 17791 entries, 0 to 28081\n",
      "Data columns (total 5 columns):\n",
      " #   Column  Non-Null Count  Dtype \n",
      "---  ------  --------------  ----- \n",
      " 0   class   17791 non-null  object\n",
      " 1   title   17791 non-null  object\n",
      " 2   author  17791 non-null  object\n",
      " 3   text    17791 non-null  object\n",
      " 4   url     17791 non-null  object\n",
      "dtypes: object(5)\n",
      "memory usage: 834.0+ KB\n"
     ]
    }
   ],
   "source": [
    "brunch_df = df_preprocess(brunch_df)\n",
    "brunch_df.info()"
   ]
  },
  {
   "attachments": {},
   "cell_type": "markdown",
   "id": "78b2cd75",
   "metadata": {},
   "source": [
    "## 글틴"
   ]
  },
  {
   "cell_type": "code",
   "execution_count": 7,
   "id": "e804b16f",
   "metadata": {},
   "outputs": [
    {
     "name": "stdout",
     "output_type": "stream",
     "text": [
      "<class 'pandas.core.frame.DataFrame'>\n",
      "RangeIndex: 4015 entries, 0 to 4014\n",
      "Data columns (total 5 columns):\n",
      " #   Column  Non-Null Count  Dtype \n",
      "---  ------  --------------  ----- \n",
      " 0   class   4015 non-null   object\n",
      " 1   title   4015 non-null   object\n",
      " 2   author  4015 non-null   object\n",
      " 3   text    4015 non-null   object\n",
      " 4   url     4015 non-null   object\n",
      "dtypes: object(5)\n",
      "memory usage: 157.0+ KB\n"
     ]
    }
   ],
   "source": [
    "teen1 = json.load(open(\"./brunch/글틴수필.json\", \"r\", encoding=\"UTF8\"))\n",
    "teen2 = json.load(open(\"./brunch/명예의전당.json\", \"r\", encoding=\"UTF8\"))\n",
    "\n",
    "total_teen = teen1['data'] + teen2['data']\n",
    "teen_df = pd.DataFrame(data=total_teen)\n",
    "teen_df.info()"
   ]
  },
  {
   "cell_type": "code",
   "execution_count": 8,
   "id": "d61852ad",
   "metadata": {},
   "outputs": [
    {
     "name": "stdout",
     "output_type": "stream",
     "text": [
      "기존 데이터 수 >  4015\n",
      "중복 제거 후 데이터 수 >  3902\n",
      "본문 없는 데이터 제거 후 데이터 수 >  3901\n",
      "한국어 비율 적은 데이터 제거 후 데이터 수 >  3598\n",
      "DEATH NOTE 후 데이터 수 >  3564\n",
      "500자 이하 데이터 제거한 후 데이터 수 >  3251\n",
      "중국어 일본어 제거한 데이터 수 >  2938\n",
      "<class 'pandas.core.frame.DataFrame'>\n",
      "Int64Index: 2938 entries, 0 to 4013\n",
      "Data columns (total 5 columns):\n",
      " #   Column  Non-Null Count  Dtype \n",
      "---  ------  --------------  ----- \n",
      " 0   class   2938 non-null   object\n",
      " 1   title   2938 non-null   object\n",
      " 2   author  2938 non-null   object\n",
      " 3   text    2938 non-null   object\n",
      " 4   url     2938 non-null   object\n",
      "dtypes: object(5)\n",
      "memory usage: 137.7+ KB\n"
     ]
    }
   ],
   "source": [
    "teen_df = df_preprocess(teen_df)\n",
    "teen_df.info()"
   ]
  },
  {
   "attachments": {},
   "cell_type": "markdown",
   "id": "be77c80a",
   "metadata": {},
   "source": [
    "# 데이터 전처리"
   ]
  },
  {
   "cell_type": "code",
   "execution_count": 9,
   "id": "3591d3ac",
   "metadata": {},
   "outputs": [
    {
     "name": "stdout",
     "output_type": "stream",
     "text": [
      "<class 'pandas.core.frame.DataFrame'>\n",
      "Int64Index: 20729 entries, 0 to 4013\n",
      "Data columns (total 5 columns):\n",
      " #   Column  Non-Null Count  Dtype \n",
      "---  ------  --------------  ----- \n",
      " 0   class   20729 non-null  object\n",
      " 1   title   20729 non-null  object\n",
      " 2   author  20729 non-null  object\n",
      " 3   text    20729 non-null  object\n",
      " 4   url     20729 non-null  object\n",
      "dtypes: object(5)\n",
      "memory usage: 971.7+ KB\n"
     ]
    }
   ],
   "source": [
    "total_df = pd.concat([brunch_df, teen_df])\n",
    "total_df.info()"
   ]
  },
  {
   "cell_type": "code",
   "execution_count": 11,
   "id": "1d8cb09b",
   "metadata": {},
   "outputs": [],
   "source": [
    "def preprocess(x: str):\n",
    "    # Remove emails\n",
    "    x = re.sub(r\"[a-zA-Z0-9._%+-]+@[a-zA-Z0-9.-]+\\.[a-zA-Z]{2,}\", \"\", x).strip()\n",
    "\n",
    "    # Remove URLs\n",
    "    x = re.sub(r\"(https?://)?(www\\.)?[a-zA-Z0-9](?:[a-zA-Z0-9-]{0,61}[a-zA-Z0-9])?(?:\\.[a-zA-Z0-9](?:[a-zA-Z0-9-]\"\n",
    "               r\"{0,61}[a-zA-Z0-9])?)+(?:/.*)?\", \"\", x).strip()\n",
    "\n",
    "    # Replace some invisible Unicode characters\n",
    "    x = x.replace(\"\\u2060\", \"\").strip()\n",
    "\n",
    "    # Remove hashtags\n",
    "    x = re.sub(r\"#\\S+\", \"\", x).strip()\n",
    "\n",
    "    # Remove mentions\n",
    "    x = re.sub(r\"@\\w+\", \"\", x).strip()\n",
    "\n",
    "    # Replace curly quotes\n",
    "    x = x.replace(\"‘\", \"'\").replace(\"’\", \"'\").replace(\"“\", '\"').replace(\"”\", '\"')\n",
    "\n",
    "    # Replace ellipsis\n",
    "    x = x.replace(\"…\", \"...\")\n",
    "\n",
    "    # Replace em dash\n",
    "    x = x.replace(\"—\", \"-\")\n",
    "\n",
    "    # Replace en dash\n",
    "    x = x.replace(\"–\", \"-\")\n",
    "\n",
    "    # Replace 《 》\n",
    "    x = x.replace(\"《\", \"<\").replace(\"》\", \">\")\n",
    "\n",
    "    # Replace 〈 〉\n",
    "    x = x.replace(\"〈\", \"<\").replace(\"〉\", \">\")\n",
    "\n",
    "    # Replace 〔 〕\n",
    "    x = x.replace(\"〔\", \"[\").replace(\"〕\", \"]\")\n",
    "\n",
    "    # Replace 〖 〗\n",
    "    x = x.replace(\"〖\", \"[\").replace(\"〗\", \"]\")\n",
    "\n",
    "    # Replace 〘 〙\n",
    "    x = x.replace(\"〘\", \"[\").replace(\"〙\", \"]\")\n",
    "\n",
    "    # Replace 〚 〛\n",
    "    x = x.replace(\"〚\", \"[\").replace(\"〛\", \"]\")\n",
    "\n",
    "    # Replace 「 」\n",
    "    x = x.replace(\"「\", \"\\\"\").replace(\"」\", \"\\\"\")\n",
    "\n",
    "    # Replace 『 』\n",
    "    x = x.replace(\"『\", \"\\\"\").replace(\"』\", \"\\\"\")\n",
    "\n",
    "    # Replace 【 】\n",
    "    x = x.replace(\"【\", \"[\").replace(\"】\", \"]\")\n",
    "\n",
    "    # Remove nested parenthesis\n",
    "    x = re.sub(r\"[(\\[{].*?[)\\]}]|[)\\]}]\", \"\", x).strip()\n",
    "\n",
    "    # Remove leftover parenthesis just in case\n",
    "    x = re.sub(r\"[()\\[\\]{}]\", \"\", x).strip()\n",
    "\n",
    "    # Remove Korean consonants and vowels\n",
    "    x = re.sub(r\"[ㄱ-ㅎㅏ-ㅣ]\", \"\", x).strip()\n",
    "\n",
    "    # Remove punctuations repeated twice or more\n",
    "    x = re.sub(r\"([@#$%^&*\\-=+\\\\|/]){2,}\", r\"\", x).strip()\n",
    "\n",
    "    # Replace full stops repeated four times or more with three full stops\n",
    "    x = re.sub(r\"\\.{4,}\", \"...\", x).strip()\n",
    "\n",
    "    # Replace question marks and exclamation marks repeated twice or more with one question mark\n",
    "    x = re.sub(r\"([?!]){2,}\", r\"\\1\", x).strip()\n",
    "\n",
    "    # Replace \\n with space\n",
    "    x = re.sub(r\"\\n\", \" \", x).strip()\n",
    "\n",
    "    # Replace multiple spaces with one space\n",
    "    x = re.sub(r\"\\s+\", \" \", x).strip()\n",
    "\n",
    "    return x"
   ]
  },
  {
   "cell_type": "code",
   "execution_count": 12,
   "id": "9646404f",
   "metadata": {},
   "outputs": [
    {
     "data": {
      "text/plain": "  class          title     author  \\\n0    수필  370. 대학교수 김병조    @shrhim   \n1    수필         연필로 쓰기  @webtutor   \n2    수필       아이고, 건망증  @naya1960   \n\n                                                text  \\\n0  한때 개그맨으로 잘 나가던 김병조 씨가 대학교수가 되어 회사를 찾았다. 회사 '명사...   \n1  나는 여론을 일으키거나 거기에 붙어서 편을 끌어모으려는 목표를 가지고 있지 않다. ...   \n2  자신이 어떤 사람인지를 모른다는 것은 인생의 수레를 안개 속에 굴러가게 해놓고, 말...   \n\n                                  url  \n0    https://brunch.co.kr/@shrhim/419  \n1  https://brunch.co.kr/@webtutor/604  \n2  https://brunch.co.kr/@naya1960/196  ",
      "text/html": "<div>\n<style scoped>\n    .dataframe tbody tr th:only-of-type {\n        vertical-align: middle;\n    }\n\n    .dataframe tbody tr th {\n        vertical-align: top;\n    }\n\n    .dataframe thead th {\n        text-align: right;\n    }\n</style>\n<table border=\"1\" class=\"dataframe\">\n  <thead>\n    <tr style=\"text-align: right;\">\n      <th></th>\n      <th>class</th>\n      <th>title</th>\n      <th>author</th>\n      <th>text</th>\n      <th>url</th>\n    </tr>\n  </thead>\n  <tbody>\n    <tr>\n      <th>0</th>\n      <td>수필</td>\n      <td>370. 대학교수 김병조</td>\n      <td>@shrhim</td>\n      <td>한때 개그맨으로 잘 나가던 김병조 씨가 대학교수가 되어 회사를 찾았다. 회사 '명사...</td>\n      <td>https://brunch.co.kr/@shrhim/419</td>\n    </tr>\n    <tr>\n      <th>1</th>\n      <td>수필</td>\n      <td>연필로 쓰기</td>\n      <td>@webtutor</td>\n      <td>나는 여론을 일으키거나 거기에 붙어서 편을 끌어모으려는 목표를 가지고 있지 않다. ...</td>\n      <td>https://brunch.co.kr/@webtutor/604</td>\n    </tr>\n    <tr>\n      <th>2</th>\n      <td>수필</td>\n      <td>아이고, 건망증</td>\n      <td>@naya1960</td>\n      <td>자신이 어떤 사람인지를 모른다는 것은 인생의 수레를 안개 속에 굴러가게 해놓고, 말...</td>\n      <td>https://brunch.co.kr/@naya1960/196</td>\n    </tr>\n  </tbody>\n</table>\n</div>"
     },
     "execution_count": 12,
     "metadata": {},
     "output_type": "execute_result"
    }
   ],
   "source": [
    "total_df['text'] = total_df['text'].apply(preprocess)\n",
    "total_df['title'] = total_df['title'].apply(preprocess)\n",
    "total_df.head(3)"
   ]
  },
  {
   "cell_type": "code",
   "execution_count": 13,
   "id": "051dfece",
   "metadata": {},
   "outputs": [
    {
     "data": {
      "text/plain": "     class                               title       author  \\\n0       수필                       370. 대학교수 김병조      @shrhim   \n1       수필                              연필로 쓰기    @webtutor   \n2       수필                            아이고, 건망증    @naya1960   \n4       수필                     15. 아내에게 좋은 사람?  @eulachacha   \n5       수필                              양치기 소녀    @soganga4   \n...    ...                                 ...          ...   \n4000    소설                              우주 이야기          김영빈   \n4002    소설                         포도나무가 자라는 땅          김영빈   \n4008     시  한 아이가 슈퍼맨이 술을 마신 채 개처럼 벤치에 뻗은 걸 봤데          김영빈   \n4012    소설                              빨간 줄무늬          김영빈   \n4013    소설                                 수제비          김영빈   \n\n                                                   text  \\\n0     한때 개그맨으로 잘 나가던 김병조 씨가 대학교수가 되어 회사를 찾았다. 회사 '명사...   \n1     나는 여론을 일으키거나 거기에 붙어서 편을 끌어모으려는 목표를 가지고 있지 않다. ...   \n2     자신이 어떤 사람인지를 모른다는 것은 인생의 수레를 안개 속에 굴러가게 해놓고, 말...   \n4     \"좋은 사람이 되어야 좋은 사람을 만나게 된다.\" 요즘 읽고 있는 <태도의 말들>에...   \n5     # 1. 우리 가족은 내가 초등학교 2학년 여름방학이 되면서 강원도르 이사를 했다....   \n...                                                 ...   \n4000  1 너의 우주를 보고 싶어. 펭이 말했다. 목소리가 작아서 환청을 들은 것 같았다....   \n4002  벌써 넉 달째, 아무 말 없이 통장에 돈을 부치고 있는 사람이 누군지를 우는 생각했...   \n4008  한 아이가 슈퍼맨이 술을 마신 채 개처럼 벤치에 뻗은 걸 봤데 그 아이는 하루 종일...   \n4012  ━ 줄무늬에는 힘이 있다. 선의 경계 안에 아무것도 침범할 수 없는 견고함. 밋밋하...   \n4013  수제비 1 어머니의 손은 푸르뎅뎅하게 부어올라 있었다. 벙어리장갑을 끼고 있는 것 ...   \n\n                                            url  \n0              https://brunch.co.kr/@shrhim/419  \n1            https://brunch.co.kr/@webtutor/604  \n2            https://brunch.co.kr/@naya1960/196  \n4           https://brunch.co.kr/@eulachacha/56  \n5             https://brunch.co.kr/@soganga4/62  \n...                                         ...  \n4000  https://teen.munjang.or.kr/archives/86932  \n4002  https://teen.munjang.or.kr/archives/86702  \n4008  https://teen.munjang.or.kr/archives/85812  \n4012  https://teen.munjang.or.kr/archives/84464  \n4013  https://teen.munjang.or.kr/archives/84335  \n\n[20729 rows x 5 columns]",
      "text/html": "<div>\n<style scoped>\n    .dataframe tbody tr th:only-of-type {\n        vertical-align: middle;\n    }\n\n    .dataframe tbody tr th {\n        vertical-align: top;\n    }\n\n    .dataframe thead th {\n        text-align: right;\n    }\n</style>\n<table border=\"1\" class=\"dataframe\">\n  <thead>\n    <tr style=\"text-align: right;\">\n      <th></th>\n      <th>class</th>\n      <th>title</th>\n      <th>author</th>\n      <th>text</th>\n      <th>url</th>\n    </tr>\n  </thead>\n  <tbody>\n    <tr>\n      <th>0</th>\n      <td>수필</td>\n      <td>370. 대학교수 김병조</td>\n      <td>@shrhim</td>\n      <td>한때 개그맨으로 잘 나가던 김병조 씨가 대학교수가 되어 회사를 찾았다. 회사 '명사...</td>\n      <td>https://brunch.co.kr/@shrhim/419</td>\n    </tr>\n    <tr>\n      <th>1</th>\n      <td>수필</td>\n      <td>연필로 쓰기</td>\n      <td>@webtutor</td>\n      <td>나는 여론을 일으키거나 거기에 붙어서 편을 끌어모으려는 목표를 가지고 있지 않다. ...</td>\n      <td>https://brunch.co.kr/@webtutor/604</td>\n    </tr>\n    <tr>\n      <th>2</th>\n      <td>수필</td>\n      <td>아이고, 건망증</td>\n      <td>@naya1960</td>\n      <td>자신이 어떤 사람인지를 모른다는 것은 인생의 수레를 안개 속에 굴러가게 해놓고, 말...</td>\n      <td>https://brunch.co.kr/@naya1960/196</td>\n    </tr>\n    <tr>\n      <th>4</th>\n      <td>수필</td>\n      <td>15. 아내에게 좋은 사람?</td>\n      <td>@eulachacha</td>\n      <td>\"좋은 사람이 되어야 좋은 사람을 만나게 된다.\" 요즘 읽고 있는 &lt;태도의 말들&gt;에...</td>\n      <td>https://brunch.co.kr/@eulachacha/56</td>\n    </tr>\n    <tr>\n      <th>5</th>\n      <td>수필</td>\n      <td>양치기 소녀</td>\n      <td>@soganga4</td>\n      <td># 1. 우리 가족은 내가 초등학교 2학년 여름방학이 되면서 강원도르 이사를 했다....</td>\n      <td>https://brunch.co.kr/@soganga4/62</td>\n    </tr>\n    <tr>\n      <th>...</th>\n      <td>...</td>\n      <td>...</td>\n      <td>...</td>\n      <td>...</td>\n      <td>...</td>\n    </tr>\n    <tr>\n      <th>4000</th>\n      <td>소설</td>\n      <td>우주 이야기</td>\n      <td>김영빈</td>\n      <td>1 너의 우주를 보고 싶어. 펭이 말했다. 목소리가 작아서 환청을 들은 것 같았다....</td>\n      <td>https://teen.munjang.or.kr/archives/86932</td>\n    </tr>\n    <tr>\n      <th>4002</th>\n      <td>소설</td>\n      <td>포도나무가 자라는 땅</td>\n      <td>김영빈</td>\n      <td>벌써 넉 달째, 아무 말 없이 통장에 돈을 부치고 있는 사람이 누군지를 우는 생각했...</td>\n      <td>https://teen.munjang.or.kr/archives/86702</td>\n    </tr>\n    <tr>\n      <th>4008</th>\n      <td>시</td>\n      <td>한 아이가 슈퍼맨이 술을 마신 채 개처럼 벤치에 뻗은 걸 봤데</td>\n      <td>김영빈</td>\n      <td>한 아이가 슈퍼맨이 술을 마신 채 개처럼 벤치에 뻗은 걸 봤데 그 아이는 하루 종일...</td>\n      <td>https://teen.munjang.or.kr/archives/85812</td>\n    </tr>\n    <tr>\n      <th>4012</th>\n      <td>소설</td>\n      <td>빨간 줄무늬</td>\n      <td>김영빈</td>\n      <td>━ 줄무늬에는 힘이 있다. 선의 경계 안에 아무것도 침범할 수 없는 견고함. 밋밋하...</td>\n      <td>https://teen.munjang.or.kr/archives/84464</td>\n    </tr>\n    <tr>\n      <th>4013</th>\n      <td>소설</td>\n      <td>수제비</td>\n      <td>김영빈</td>\n      <td>수제비 1 어머니의 손은 푸르뎅뎅하게 부어올라 있었다. 벙어리장갑을 끼고 있는 것 ...</td>\n      <td>https://teen.munjang.or.kr/archives/84335</td>\n    </tr>\n  </tbody>\n</table>\n<p>20729 rows × 5 columns</p>\n</div>"
     },
     "execution_count": 13,
     "metadata": {},
     "output_type": "execute_result"
    }
   ],
   "source": [
    "total_df"
   ]
  },
  {
   "cell_type": "code",
   "execution_count": 18,
   "id": "3f76d2fe",
   "metadata": {},
   "outputs": [],
   "source": [
    "total_json = total_df.to_dict(orient=\"records\")\n",
    "json.dump(total_json, open(\"./data/hyunsoo_brunch_gteen.json\", \"w\", encoding=\"utf-8\"), ensure_ascii=False,\n",
    "          indent=2)"
   ]
  }
 ],
 "metadata": {
  "kernelspec": {
   "display_name": "bkt",
   "language": "python",
   "name": "python3"
  },
  "language_info": {
   "codemirror_mode": {
    "name": "ipython",
    "version": 3
   },
   "file_extension": ".py",
   "mimetype": "text/x-python",
   "name": "python",
   "nbconvert_exporter": "python",
   "pygments_lexer": "ipython3",
   "version": "3.10.8"
  },
  "vscode": {
   "interpreter": {
    "hash": "62427fce1f9b31a6b047bc8e8bb9e63b2bac86b20e5628b60988d421a658351d"
   }
  }
 },
 "nbformat": 4,
 "nbformat_minor": 5
}
